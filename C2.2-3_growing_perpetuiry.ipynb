{
 "cells": [
  {
   "cell_type": "markdown",
   "metadata": {},
   "source": [
    "C2 growing perpetuities. \n",
    "you plan to leave 10 billion to fight malaria. \n",
    "the salaries grow around 4 per cent per year. \n",
    "therefore, you need to provide 1 billion * 1.04 and so on. "
   ]
  },
  {
   "cell_type": "markdown",
   "metadata": {},
   "source": [
    "the PV of a growing perpetuity is \n",
    "\n",
    "pv = cf / r - g\n",
    "where g = growing rate of the perpetuity. \n"
   ]
  },
  {
   "cell_type": "code",
   "execution_count": 1,
   "metadata": {},
   "outputs": [],
   "source": [
    "cf = 1\n",
    "r = 0.1\n",
    "g = 0.04"
   ]
  },
  {
   "cell_type": "code",
   "execution_count": 4,
   "metadata": {},
   "outputs": [
    {
     "name": "stdout",
     "output_type": "stream",
     "text": [
      "16.666666666666664\n"
     ]
    }
   ],
   "source": [
    "pv = cf /(r-g)\n",
    "print (pv)"
   ]
  },
  {
   "cell_type": "code",
   "execution_count": 6,
   "metadata": {},
   "outputs": [
    {
     "name": "stdout",
     "output_type": "stream",
     "text": [
      "you need to leave 16.666666666666664 billion \n"
     ]
    }
   ],
   "source": [
    "print (('you need to leave {} billion ').format(pv))\n"
   ]
  },
  {
   "cell_type": "code",
   "execution_count": null,
   "metadata": {},
   "outputs": [],
   "source": []
  }
 ],
 "metadata": {
  "kernelspec": {
   "display_name": "Python 3",
   "language": "python",
   "name": "python3"
  },
  "language_info": {
   "codemirror_mode": {
    "name": "ipython",
    "version": 3
   },
   "file_extension": ".py",
   "mimetype": "text/x-python",
   "name": "python",
   "nbconvert_exporter": "python",
   "pygments_lexer": "ipython3",
   "version": "3.6.5"
  }
 },
 "nbformat": 4,
 "nbformat_minor": 2
}

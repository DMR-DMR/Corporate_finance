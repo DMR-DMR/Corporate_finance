{
 "cells": [
  {
   "cell_type": "markdown",
   "metadata": {},
   "source": [
    "Principles of corporate Finance \n",
    "\n",
    "Chapter 2\n",
    "Example 2.5\n",
    "Calculating a mortgage amortization payments"
   ]
  },
  {
   "cell_type": "code",
   "execution_count": 2,
   "metadata": {},
   "outputs": [],
   "source": [
    "import pandas as pd\n",
    "import numpy as np\n",
    "import matplotlib.pyplot as plt"
   ]
  },
  {
   "cell_type": "code",
   "execution_count": 3,
   "metadata": {},
   "outputs": [],
   "source": [
    "# Set variables\n",
    "\n",
    "pv = 250000\n",
    "r = 0.12\n",
    "t = 30\n",
    "ppy = 1\n"
   ]
  },
  {
   "cell_type": "code",
   "execution_count": 4,
   "metadata": {},
   "outputs": [
    {
     "name": "stdout",
     "output_type": "stream",
     "text": [
      "8.055183967667363\n"
     ]
    }
   ],
   "source": [
    "# calculate annuity factor\n",
    "\n",
    "af = ((1/r) - (1/(r*((1+r)**(t*ppy)))))\n",
    "print(af)\n"
   ]
  },
  {
   "cell_type": "code",
   "execution_count": 5,
   "metadata": {},
   "outputs": [],
   "source": [
    "# Period payment is (pv/af)\n",
    "pmt = pv/af\n",
    "fv = pmt*t"
   ]
  },
  {
   "cell_type": "code",
   "execution_count": 6,
   "metadata": {},
   "outputs": [],
   "source": [
    "per = pd.Series(range(1,(t*ppy)+1))"
   ]
  },
  {
   "cell_type": "code",
   "execution_count": 7,
   "metadata": {},
   "outputs": [],
   "source": [
    "df = pd.DataFrame(index= per , columns=['pmt','paid','im','Blnc','ipaid','ppaid'])\n",
    "pd.options.display.float_format = '{:,.2f}'.format"
   ]
  },
  {
   "cell_type": "code",
   "execution_count": 8,
   "metadata": {},
   "outputs": [],
   "source": [
    "df[\"pmt\"] = pmt\n",
    "df[\"paid\"] = df[\"pmt\"].cumsum()\n",
    "df[\"im\"] = fv\n",
    "df['Blnc']= df[\"im\"]-df[\"paid\"]\n",
    "df['per'] = per\n",
    "df['ipaid'] = np.ipmt(r, per, (t*ppy), pv, when='end')*-1\n",
    "df['ppaid'] = np.ppmt(r, per, (t*ppy), pv, when='end')*-1\n"
   ]
  },
  {
   "cell_type": "code",
   "execution_count": 9,
   "metadata": {},
   "outputs": [
    {
     "name": "stdout",
     "output_type": "stream",
     "text": [
      "         pmt       paid         im       Blnc     ipaid     ppaid   per\n",
      "1  31,035.91  31,035.91 931,077.43 900,041.52 30,000.00  1,035.91  2.00\n",
      "2  31,035.91  62,071.83 931,077.43 869,005.60 29,875.69  1,160.22  3.00\n",
      "3  31,035.91  93,107.74 931,077.43 837,969.69 29,736.46  1,299.45  4.00\n",
      "4  31,035.91 124,143.66 931,077.43 806,933.77 29,580.53  1,455.39  5.00\n",
      "5  31,035.91 155,179.57 931,077.43 775,897.86 29,405.88  1,630.03  6.00\n",
      "6  31,035.91 186,215.49 931,077.43 744,861.95 29,210.28  1,825.64  7.00\n",
      "7  31,035.91 217,251.40 931,077.43 713,826.03 28,991.20  2,044.71  8.00\n",
      "8  31,035.91 248,287.32 931,077.43 682,790.12 28,745.84  2,290.08  9.00\n",
      "9  31,035.91 279,323.23 931,077.43 651,754.20 28,471.03  2,564.89 10.00\n",
      "10 31,035.91 310,359.14 931,077.43 620,718.29 28,163.24  2,872.67 11.00\n",
      "11 31,035.91 341,395.06 931,077.43 589,682.37 27,818.52  3,217.39 12.00\n",
      "12 31,035.91 372,430.97 931,077.43 558,646.46 27,432.43  3,603.48 13.00\n",
      "13 31,035.91 403,466.89 931,077.43 527,610.54 27,000.02  4,035.90 14.00\n",
      "14 31,035.91 434,502.80 931,077.43 496,574.63 26,515.71  4,520.21 15.00\n",
      "15 31,035.91 465,538.72 931,077.43 465,538.72 25,973.28  5,062.63 16.00\n",
      "16 31,035.91 496,574.63 931,077.43 434,502.80 25,365.77  5,670.15 17.00\n",
      "17 31,035.91 527,610.54 931,077.43 403,466.89 24,685.35  6,350.56 18.00\n",
      "18 31,035.91 558,646.46 931,077.43 372,430.97 23,923.28  7,112.63 19.00\n",
      "19 31,035.91 589,682.37 931,077.43 341,395.06 23,069.77  7,966.15 20.00\n",
      "20 31,035.91 620,718.29 931,077.43 310,359.14 22,113.83  8,922.08 21.00\n",
      "21 31,035.91 651,754.20 931,077.43 279,323.23 21,043.18  9,992.73 22.00\n",
      "22 31,035.91 682,790.12 931,077.43 248,287.32 19,844.05 11,191.86 23.00\n",
      "23 31,035.91 713,826.03 931,077.43 217,251.40 18,501.03 12,534.89 24.00\n",
      "24 31,035.91 744,861.95 931,077.43 186,215.49 16,996.84 14,039.07 25.00\n",
      "25 31,035.91 775,897.86 931,077.43 155,179.57 15,312.15 15,723.76 26.00\n",
      "26 31,035.91 806,933.77 931,077.43 124,143.66 13,425.30 17,610.61 27.00\n",
      "27 31,035.91 837,969.69 931,077.43  93,107.74 11,312.03 19,723.88 28.00\n",
      "28 31,035.91 869,005.60 931,077.43  62,071.83  8,945.16 22,090.75 29.00\n",
      "29 31,035.91 900,041.52 931,077.43  31,035.91  6,294.27 24,741.64 30.00\n",
      "30 31,035.91 931,077.43 931,077.43      -0.00  3,325.28 27,710.64   nan\n"
     ]
    },
    {
     "data": {
      "image/png": "[encoded data removed]",
      "text/plain": [
       "<Figure size 432x288 with 1 Axes>"
      ]
     },
     "metadata": {},
     "output_type": "display_data"
    }
   ],
   "source": [
    "df['ppaid'].plot()\n",
    "df['ipaid'].plot()\n",
    "print(df)\n",
    "plt.show()"
   ]
  },
  {
   "cell_type": "code",
   "execution_count": null,
   "metadata": {},
   "outputs": [],
   "source": []
  }
 ],
 "metadata": {
  "kernelspec": {
   "display_name": "Python 3",
   "language": "python",
   "name": "python3"
  },
  "language_info": {
   "codemirror_mode": {
    "name": "ipython",
    "version": 3
   },
   "file_extension": ".py",
   "mimetype": "text/x-python",
   "name": "python",
   "nbconvert_exporter": "python",
   "pygments_lexer": "ipython3",
   "version": "3.6.5"
  }
 },
 "nbformat": 4,
 "nbformat_minor": 2
}

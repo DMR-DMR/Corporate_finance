{
 "cells": [
  {
   "cell_type": "code",
   "execution_count": 46,
   "metadata": {},
   "outputs": [],
   "source": [
    "import pandas as pd\n",
    "import numpy as np\n",
    "from datetime import date\n",
    "pd.set_option('display.float_format', lambda x: '%.3f' % x)"
   ]
  },
  {
   "cell_type": "code",
   "execution_count": 47,
   "metadata": {},
   "outputs": [],
   "source": [
    "pv = 1000\n",
    "r = 0.1\n",
    "t = 4"
   ]
  },
  {
   "cell_type": "code",
   "execution_count": 48,
   "metadata": {},
   "outputs": [
    {
     "data": {
      "text/plain": [
       "3.169865446349295"
      ]
     },
     "execution_count": 48,
     "metadata": {},
     "output_type": "execute_result"
    }
   ],
   "source": [
    "af = ((1/r)-(1/(r*(1+r)**t))); af"
   ]
  },
  {
   "cell_type": "code",
   "execution_count": 49,
   "metadata": {},
   "outputs": [
    {
     "data": {
      "text/plain": [
       "315.4708037060976"
      ]
     },
     "execution_count": 49,
     "metadata": {},
     "output_type": "execute_result"
    }
   ],
   "source": [
    "pmt = pv/af; pmt"
   ]
  },
  {
   "cell_type": "markdown",
   "metadata": {},
   "source": [
    "Basic facts from the loan"
   ]
  },
  {
   "cell_type": "code",
   "execution_count": 50,
   "metadata": {},
   "outputs": [],
   "source": [
    "r = 0.1\n",
    "years = 4\n",
    "payments_year = 1\n",
    "t = years*payments_year\n",
    "pv = 1000\n",
    "t_0 = date(2018,10,21)"
   ]
  },
  {
   "cell_type": "markdown",
   "metadata": {},
   "source": [
    "how much is the value of each payment (pmt)"
   ]
  },
  {
   "cell_type": "code",
   "execution_count": 51,
   "metadata": {},
   "outputs": [
    {
     "data": {
      "text/plain": [
       "-315.4708037060977"
      ]
     },
     "execution_count": 51,
     "metadata": {},
     "output_type": "execute_result"
    }
   ],
   "source": [
    "pmt = np.pmt(r,t,pv); pmt"
   ]
  },
  {
   "cell_type": "markdown",
   "metadata": {},
   "source": [
    "Now, how much of the pmt is interests (i) and how much is principal (p)?"
   ]
  },
  {
   "cell_type": "code",
   "execution_count": 52,
   "metadata": {},
   "outputs": [
    {
     "data": {
      "text/plain": [
       "array(-100.)"
      ]
     },
     "execution_count": 52,
     "metadata": {},
     "output_type": "execute_result"
    }
   ],
   "source": [
    "# Period to calculate\n",
    "per = 1\n",
    "\n",
    "# Calculate the interest\n",
    "ipmt = np.ipmt(r/payments_year, per, t, pv); ipmt"
   ]
  },
  {
   "cell_type": "code",
   "execution_count": 53,
   "metadata": {},
   "outputs": [
    {
     "data": {
      "text/plain": [
       "-215.47080370609768"
      ]
     },
     "execution_count": 53,
     "metadata": {},
     "output_type": "execute_result"
    }
   ],
   "source": [
    "# Calculate the principal\n",
    "ppmt = np.ppmt(r/payments_year, per, t, pv); ppmt"
   ]
  },
  {
   "cell_type": "markdown",
   "metadata": {},
   "source": [
    "Now, let us create a table for this data set.\n",
    "First we create the date range for all the payment periods"
   ]
  },
  {
   "cell_type": "code",
   "execution_count": 54,
   "metadata": {},
   "outputs": [],
   "source": [
    "rng = pd.date_range(start=t_0,periods=t,freq='365D')\n",
    "rng.name = \"Date\""
   ]
  },
  {
   "cell_type": "markdown",
   "metadata": {},
   "source": [
    "Then, we create the columns for the table. We do that by creating a \"Data Frame\" in Pandas\n",
    "we use the date range as index."
   ]
  },
  {
   "cell_type": "code",
   "execution_count": 55,
   "metadata": {},
   "outputs": [],
   "source": [
    "df = pd.DataFrame(index=rng, \n",
    "                  columns=['Beg Balance',\n",
    "                           'intermed',\n",
    "                           'Interest', \n",
    "                           'Total year end payment',\n",
    "                           'Amortization of loan', \n",
    "                           'End of year Balance'], \n",
    "                            dtype='float')\n",
    "df.reset_index(inplace=True)\n",
    "df.index += 1\n",
    "df.index.name = \"Year\""
   ]
  },
  {
   "cell_type": "code",
   "execution_count": 56,
   "metadata": {},
   "outputs": [
    {
     "data": {
      "text/html": [
       "<div>\n",
       "<style scoped>\n",
       "    .dataframe tbody tr th:only-of-type {\n",
       "        vertical-align: middle;\n",
       "    }\n",
       "\n",
       "    .dataframe tbody tr th {\n",
       "        vertical-align: top;\n",
       "    }\n",
       "\n",
       "    .dataframe thead th {\n",
       "        text-align: right;\n",
       "    }\n",
       "</style>\n",
       "<table border=\"1\" class=\"dataframe\">\n",
       "  <thead>\n",
       "    <tr style=\"text-align: right;\">\n",
       "      <th></th>\n",
       "      <th>Date</th>\n",
       "      <th>Beg Balance</th>\n",
       "      <th>intermed</th>\n",
       "      <th>Interest</th>\n",
       "      <th>Total year end payment</th>\n",
       "      <th>Amortization of loan</th>\n",
       "      <th>End of year Balance</th>\n",
       "    </tr>\n",
       "    <tr>\n",
       "      <th>Year</th>\n",
       "      <th></th>\n",
       "      <th></th>\n",
       "      <th></th>\n",
       "      <th></th>\n",
       "      <th></th>\n",
       "      <th></th>\n",
       "      <th></th>\n",
       "    </tr>\n",
       "  </thead>\n",
       "  <tbody>\n",
       "    <tr>\n",
       "      <th>1</th>\n",
       "      <td>2018-10-21</td>\n",
       "      <td>nan</td>\n",
       "      <td>nan</td>\n",
       "      <td>nan</td>\n",
       "      <td>nan</td>\n",
       "      <td>nan</td>\n",
       "      <td>nan</td>\n",
       "    </tr>\n",
       "    <tr>\n",
       "      <th>2</th>\n",
       "      <td>2019-10-21</td>\n",
       "      <td>nan</td>\n",
       "      <td>nan</td>\n",
       "      <td>nan</td>\n",
       "      <td>nan</td>\n",
       "      <td>nan</td>\n",
       "      <td>nan</td>\n",
       "    </tr>\n",
       "    <tr>\n",
       "      <th>3</th>\n",
       "      <td>2020-10-20</td>\n",
       "      <td>nan</td>\n",
       "      <td>nan</td>\n",
       "      <td>nan</td>\n",
       "      <td>nan</td>\n",
       "      <td>nan</td>\n",
       "      <td>nan</td>\n",
       "    </tr>\n",
       "    <tr>\n",
       "      <th>4</th>\n",
       "      <td>2021-10-20</td>\n",
       "      <td>nan</td>\n",
       "      <td>nan</td>\n",
       "      <td>nan</td>\n",
       "      <td>nan</td>\n",
       "      <td>nan</td>\n",
       "      <td>nan</td>\n",
       "    </tr>\n",
       "  </tbody>\n",
       "</table>\n",
       "</div>"
      ],
      "text/plain": [
       "           Date  Beg Balance  intermed  Interest  Total year end payment  \\\n",
       "Year                                                                       \n",
       "1    2018-10-21          nan       nan       nan                     nan   \n",
       "2    2019-10-21          nan       nan       nan                     nan   \n",
       "3    2020-10-20          nan       nan       nan                     nan   \n",
       "4    2021-10-20          nan       nan       nan                     nan   \n",
       "\n",
       "      Amortization of loan  End of year Balance  \n",
       "Year                                             \n",
       "1                      nan                  nan  \n",
       "2                      nan                  nan  \n",
       "3                      nan                  nan  \n",
       "4                      nan                  nan  "
      ]
     },
     "execution_count": 56,
     "metadata": {},
     "output_type": "execute_result"
    }
   ],
   "source": [
    "df.head()"
   ]
  },
  {
   "cell_type": "markdown",
   "metadata": {},
   "source": [
    "now we populate the table with the values from the pmts"
   ]
  },
  {
   "cell_type": "code",
   "execution_count": 57,
   "metadata": {},
   "outputs": [
    {
     "data": {
      "text/html": [
       "<div>\n",
       "<style scoped>\n",
       "    .dataframe tbody tr th:only-of-type {\n",
       "        vertical-align: middle;\n",
       "    }\n",
       "\n",
       "    .dataframe tbody tr th {\n",
       "        vertical-align: top;\n",
       "    }\n",
       "\n",
       "    .dataframe thead th {\n",
       "        text-align: right;\n",
       "    }\n",
       "</style>\n",
       "<table border=\"1\" class=\"dataframe\">\n",
       "  <thead>\n",
       "    <tr style=\"text-align: right;\">\n",
       "      <th></th>\n",
       "      <th>Date</th>\n",
       "      <th>Beg Balance</th>\n",
       "      <th>intermed</th>\n",
       "      <th>Interest</th>\n",
       "      <th>Total year end payment</th>\n",
       "      <th>Amortization of loan</th>\n",
       "      <th>End of year Balance</th>\n",
       "    </tr>\n",
       "    <tr>\n",
       "      <th>Year</th>\n",
       "      <th></th>\n",
       "      <th></th>\n",
       "      <th></th>\n",
       "      <th></th>\n",
       "      <th></th>\n",
       "      <th></th>\n",
       "      <th></th>\n",
       "    </tr>\n",
       "  </thead>\n",
       "  <tbody>\n",
       "    <tr>\n",
       "      <th>1</th>\n",
       "      <td>2018-10-21</td>\n",
       "      <td>784.529</td>\n",
       "      <td>1000</td>\n",
       "      <td>-100.000</td>\n",
       "      <td>-315.471</td>\n",
       "      <td>-215.471</td>\n",
       "      <td>-215.471</td>\n",
       "    </tr>\n",
       "    <tr>\n",
       "      <th>2</th>\n",
       "      <td>2019-10-21</td>\n",
       "      <td>547.511</td>\n",
       "      <td>1000</td>\n",
       "      <td>-78.453</td>\n",
       "      <td>-315.471</td>\n",
       "      <td>-237.018</td>\n",
       "      <td>-452.489</td>\n",
       "    </tr>\n",
       "    <tr>\n",
       "      <th>3</th>\n",
       "      <td>2020-10-20</td>\n",
       "      <td>286.792</td>\n",
       "      <td>1000</td>\n",
       "      <td>-54.751</td>\n",
       "      <td>-315.471</td>\n",
       "      <td>-260.720</td>\n",
       "      <td>-713.208</td>\n",
       "    </tr>\n",
       "    <tr>\n",
       "      <th>4</th>\n",
       "      <td>2021-10-20</td>\n",
       "      <td>0.000</td>\n",
       "      <td>1000</td>\n",
       "      <td>-28.679</td>\n",
       "      <td>-315.471</td>\n",
       "      <td>-286.792</td>\n",
       "      <td>-1000.000</td>\n",
       "    </tr>\n",
       "  </tbody>\n",
       "</table>\n",
       "</div>"
      ],
      "text/plain": [
       "           Date  Beg Balance  intermed  Interest  Total year end payment  \\\n",
       "Year                                                                       \n",
       "1    2018-10-21      784.529      1000  -100.000                -315.471   \n",
       "2    2019-10-21      547.511      1000   -78.453                -315.471   \n",
       "3    2020-10-20      286.792      1000   -54.751                -315.471   \n",
       "4    2021-10-20        0.000      1000   -28.679                -315.471   \n",
       "\n",
       "      Amortization of loan  End of year Balance  \n",
       "Year                                             \n",
       "1                 -215.471             -215.471  \n",
       "2                 -237.018             -452.489  \n",
       "3                 -260.720             -713.208  \n",
       "4                 -286.792            -1000.000  "
      ]
     },
     "execution_count": 57,
     "metadata": {},
     "output_type": "execute_result"
    }
   ],
   "source": [
    "df[\"Total year end payment\"] = np.pmt(r/payments_year, t, pv)\n",
    "df[\"Amortization of loan\"] = np.ppmt(r/payments_year, df.index, t, pv)\n",
    "df[\"Interest\"] = np.ipmt(r/payments_year, df.index, t, pv)\n",
    "df[\"End of year Balance\"] = (df[\"Amortization of loan\"]).cumsum()\n",
    "df[\"intermed\"] = pv\n",
    "df[\"Beg Balance\"] = (df[\"End of year Balance\"]+ df[\"intermed\"])\n",
    "\n",
    "# I am stuck. .....\n",
    "# Whenever I try to calculate the value of the Beginning of year balance. I end up with a science notation number.\n",
    "#  df[\"Beg Balance\"] = (df[\"End of year Balance\"]+ df[\"intermed\"])\n",
    "# Basically, it should calculate the pv - the value in the \"End of Year Balance\" column...\n",
    "\n",
    "df.head()\n"
   ]
  },
  {
   "cell_type": "code",
   "execution_count": null,
   "metadata": {},
   "outputs": [],
   "source": []
  }
 ],
 "metadata": {
  "kernelspec": {
   "display_name": "Python 3",
   "language": "python",
   "name": "python3"
  },
  "language_info": {
   "codemirror_mode": {
    "name": "ipython",
    "version": 3
   },
   "file_extension": ".py",
   "mimetype": "text/x-python",
   "name": "python",
   "nbconvert_exporter": "python",
   "pygments_lexer": "ipython3",
   "version": "3.6.5"
  }
 },
 "nbformat": 4,
 "nbformat_minor": 2
}

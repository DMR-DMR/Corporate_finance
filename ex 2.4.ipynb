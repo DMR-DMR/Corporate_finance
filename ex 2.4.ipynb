{
 "cells": [
  {
   "cell_type": "code",
   "execution_count": 1,
   "metadata": {},
   "outputs": [],
   "source": [
    "pv = 1000\n",
    "r = 0.1\n",
    "t = 4"
   ]
  },
  {
   "cell_type": "code",
   "execution_count": 2,
   "metadata": {},
   "outputs": [],
   "source": [
    "af = ((1/r)-(1/(r*(1+r)**t)))"
   ]
  },
  {
   "cell_type": "code",
   "execution_count": 3,
   "metadata": {},
   "outputs": [
    {
     "name": "stdout",
     "output_type": "stream",
     "text": [
      "315.4708037060976\n"
     ]
    }
   ],
   "source": [
    "pmt = pv/af\n",
    "\n",
    "print(pmt)"
   ]
  },
  {
   "cell_type": "code",
   "execution_count": 4,
   "metadata": {},
   "outputs": [],
   "source": [
    "import pandas as pd\n",
    "import numpy as np\n",
    "from datetime import date\n",
    "pd.set_option('display.max_columns', 50)\n"
   ]
  },
  {
   "cell_type": "markdown",
   "metadata": {},
   "source": [
    "Basic facts from the loan"
   ]
  },
  {
   "cell_type": "code",
   "execution_count": 8,
   "metadata": {},
   "outputs": [],
   "source": [
    "r = 0.1\n",
    "years = 4\n",
    "payments_year = 1\n",
    "t = years*payments_year\n",
    "pv = 1000\n",
    "t_0 = date(2018,10,21)"
   ]
  },
  {
   "cell_type": "markdown",
   "metadata": {},
   "source": [
    "how much is the value of each payment (pmt)"
   ]
  },
  {
   "cell_type": "code",
   "execution_count": 9,
   "metadata": {},
   "outputs": [],
   "source": [
    "pmt = np.pmt(r,t,pv)"
   ]
  },
  {
   "cell_type": "markdown",
   "metadata": {},
   "source": [
    "Now, how much of the pmt is interests (i) and how much is principal (p)?"
   ]
  },
  {
   "cell_type": "code",
   "execution_count": 7,
   "metadata": {},
   "outputs": [],
   "source": [
    "# Period to calculate\n",
    "per = 1\n",
    "\n",
    "# Calculate the interest\n",
    "ipmt = np.ipmt(r/payments_year, per, t, pv)\n"
   ]
  },
  {
   "cell_type": "code",
   "execution_count": 10,
   "metadata": {},
   "outputs": [],
   "source": [
    "# Calculate the principal\n",
    "ppmt = np.ppmt(r/payments_year, per, t, pv)"
   ]
  },
  {
   "cell_type": "markdown",
   "metadata": {},
   "source": [
    "Now, let us create a table for this data set.\n",
    "First we create the date range for all the payment periods"
   ]
  },
  {
   "cell_type": "code",
   "execution_count": 19,
   "metadata": {},
   "outputs": [],
   "source": [
    "rng = pd.date_range(start=t_0,periods=t,freq='365D')\n",
    "rng.name = \"Date\""
   ]
  },
  {
   "cell_type": "markdown",
   "metadata": {},
   "source": [
    "Then, we create the columns for the table. We do that by creating a \"Data Frame\" in Pandas\n",
    "we use the date range as index."
   ]
  },
  {
   "cell_type": "code",
   "execution_count": 20,
   "metadata": {},
   "outputs": [],
   "source": [
    "df = pd.DataFrame(index=rng, columns=['Beg Balance','intermed','Interest', 'Total year end payment','Amortization of loan', 'End of year Balance'], dtype='float')\n",
    "df.reset_index(inplace=True)\n",
    "df.index += 1\n",
    "df.index.name = \"Year\""
   ]
  },
  {
   "cell_type": "markdown",
   "metadata": {},
   "source": [
    "now we populate the table with the values from the pmts"
   ]
  },
  {
   "cell_type": "code",
   "execution_count": 13,
   "metadata": {},
   "outputs": [
    {
     "name": "stdout",
     "output_type": "stream",
     "text": [
      "           Date   Beg Balance  intermed    Interest  Total year end payment  \\\n",
      "Year                                                                          \n",
      "1    2018-10-21  7.845292e+02      1000 -100.000000             -315.470804   \n",
      "2    2019-10-21  5.475113e+02      1000  -78.452920             -315.470804   \n",
      "3    2020-10-20  2.867916e+02      1000  -54.751131             -315.470804   \n",
      "4    2021-10-20  4.547474e-13      1000  -28.679164             -315.470804   \n",
      "\n",
      "      Amortization of loan  End of year Balance  \n",
      "Year                                             \n",
      "1              -215.470804          -215.470804  \n",
      "2              -237.017884          -452.488688  \n",
      "3              -260.719672          -713.208360  \n",
      "4              -286.791640         -1000.000000  \n"
     ]
    }
   ],
   "source": [
    "df[\"Total year end payment\"] = np.pmt(r/payments_year, t, pv)\n",
    "df[\"Amortization of loan\"] = np.ppmt(r/payments_year, df.index, t, pv)\n",
    "df[\"Interest\"] = np.ipmt(r/payments_year, df.index, t, pv)\n",
    "df[\"End of year Balance\"] = (df[\"Amortization of loan\"]).cumsum()\n",
    "df[\"intermed\"] = pv\n",
    "df[\"Beg Balance\"] = (df[\"End of year Balance\"]+ df[\"intermed\"])\n",
    "\n",
    "# I am stuck. .....\n",
    "# Whenever I try to calculate the value of the Beginning of year balance. I end up with a science notation number.\n",
    "#  df[\"Beg Balance\"] = (df[\"End of year Balance\"]+ df[\"intermed\"])\n",
    "# Basically, it should calculate the pv - the value in the \"End of Year Balance\" column...\n",
    "\n",
    "print(df)\n"
   ]
  },
  {
   "cell_type": "code",
   "execution_count": null,
   "metadata": {},
   "outputs": [],
   "source": []
  }
 ],
 "metadata": {
  "kernelspec": {
   "display_name": "Python 3",
   "language": "python",
   "name": "python3"
  },
  "language_info": {
   "codemirror_mode": {
    "name": "ipython",
    "version": 3
   },
   "file_extension": ".py",
   "mimetype": "text/x-python",
   "name": "python",
   "nbconvert_exporter": "python",
   "pygments_lexer": "ipython3",
   "version": "3.6.5"
  }
 },
 "nbformat": 4,
 "nbformat_minor": 2
}

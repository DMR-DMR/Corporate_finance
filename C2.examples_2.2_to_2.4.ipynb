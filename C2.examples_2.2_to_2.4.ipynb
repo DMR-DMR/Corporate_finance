{
 "cells": [
  {
   "cell_type": "code",
   "execution_count": 2,
   "metadata": {},
   "outputs": [],
   "source": [
    "import locale\n",
    "locale.setlocale(locale.LC_ALL,'')\n",
    "import pandas as pd\n",
    "import numpy as np\n",
    "from datetime import date\n"
   ]
  },
  {
   "cell_type": "code",
   "execution_count": 3,
   "metadata": {},
   "outputs": [
    {
     "name": "stdout",
     "output_type": "stream",
     "text": [
      "20.500,99 €\n"
     ]
    }
   ],
   "source": [
    "## Chapter 2\n",
    "# Page 28\n",
    "# Example 2.2\n",
    "# Cost of an installment plan\n",
    "# You get offered to buy a new Toyota for €5K a year paid at the \n",
    "# end of each year for a period of 5 years. \n",
    "# With no upfront payment. How much does the Toyota really cost to you?.\n",
    "\n",
    "# pv = ?\n",
    "\n",
    "r = 0.07\n",
    "pmt = 5000\n",
    "t = 5\n",
    "\n",
    "# This is an annuity. Because consists of regular payments for a \n",
    "# fixed period of time.\n",
    "\n",
    "pv = pmt * ((1/r)-(1/(r*(1+r)**t)))\n",
    "\n",
    "pv = locale.currency(pv, grouping=True )\n",
    "print(pv)"
   ]
  },
  {
   "cell_type": "code",
   "execution_count": 4,
   "metadata": {},
   "outputs": [
    {
     "name": "stdout",
     "output_type": "stream",
     "text": [
      "167.476.700,62 €\n"
     ]
    }
   ],
   "source": [
    "# Chapter 2\n",
    "# Page 29\n",
    "# Example 2.3 \"Winning Big at the Lottery\"\n",
    "\n",
    "# $365 million was won in the lottery.\n",
    "# It is  paid in 30 equal annual # installments of $12.167 Million each.\n",
    "# Assuming that the first payment occurred at the end of one year,\n",
    "# what was the present value of the prize?\n",
    "# Note: the Interest rate at the time was 6%\n",
    "\n",
    "# The payment constitute a 30-year annuity. \n",
    "# We have to multiply the $12.167 million\n",
    "# by the annuity factor:\n",
    "\n",
    "pmt = 12167000\n",
    "r = 0.06\n",
    "t = 30\n",
    "\n",
    "pv = pmt * ((1/r)-(1/(r*(1+r)**t)))\n",
    "\n",
    "\n",
    "pv = locale.currency(pv, grouping=True )\n",
    "\n",
    "print(pv)\n",
    "\n",
    "# Annuity due\n",
    "# is when the annuity pays the first pmt at t = 0. \n",
    "# for calculating the PV of the Annuity due, the formula is slightly different. \n",
    "# basically we have to calculate PV * (1+r)\n",
    "# An annuity due is worth (1+r) times the PV of the normal Annuity\n",
    "# pv_annuity_due = pv*(1+r)"
   ]
  },
  {
   "cell_type": "code",
   "execution_count": 113,
   "metadata": {},
   "outputs": [
    {
     "name": "stdout",
     "output_type": "stream",
     "text": [
      "   Y. end .i Blnc  Tot y end pmt  Amort loan  Eoy Blnc    im  per\n",
      "1          100.00         315.47      215.47    784.53  1000 2.00\n",
      "2           78.45         315.47      237.02    547.51  1000 3.00\n",
      "3           54.75         315.47      260.72    286.79  1000 4.00\n",
      "4           28.68         315.47      286.79      0.00  1000  nan\n"
     ]
    }
   ],
   "source": [
    "#  Example 2.4\n",
    "# Table 2.1\n",
    "\n",
    "pd.set_option('display.max_columns', 50)\n",
    "\n",
    "# Basic facts from the loan\n",
    "\n",
    "r = 0.1\n",
    "years = 4\n",
    "payments_year = 1\n",
    "t = years*payments_year\n",
    "pv = 1000\n",
    "\n",
    "# how much is the value of each payment (pmt)\n",
    "\n",
    "pmt = np.pmt(r,t,pv)\n",
    "fv = pv\n",
    "\n",
    "# Now, how much of the pmt is interests (i) and how much is principal (p)?\n",
    "\n",
    "# Period to calculate\n",
    "per = 1\n",
    "\n",
    "# Calculate the interest\n",
    "ipmt = np.ipmt(r/payments_year, per, t, pv)\n",
    "\n",
    "# Calculate the principal\n",
    "ppmt = np.ppmt(r/payments_year, per, t, pv)\n",
    "\n",
    "# Now, let us create a table for this data set.\n",
    "\n",
    "# first we create the date range for all the payment periods\n",
    "\n",
    "per = pd.Series(range(1,t+1))\n",
    "\n",
    "# Then, we create the columns for the table. We do that by creating a \"Data Frame\" in Pandas\n",
    "# we use the date range as index.\n",
    "\n",
    "df = pd.DataFrame(index= per, columns=['Y. end .i Blnc','Tot y end pmt','Amort loan','Eoy Blnc'])\n",
    "pd.options.display.float_format = '{:,.2f}'.format\n",
    "\n",
    "# now we populate the table with the values from the pmts\n",
    "\n",
    "df[\"Tot y end pmt\"] = pmt*-1\n",
    "df['Amort loan'] = np.ppmt(r, per, t, pv, when='end')*-1\n",
    "df['Y. end .i Blnc'] = np.ipmt(r, per, t, pv, when='end')*-1\n",
    "df[\"im\"] = fv\n",
    "df['Eoy Blnc']= df[\"im\"]- df['Amort loan'].cumsum()\n",
    "df['per'] = per\n",
    "print(df)\n"
   ]
  },
  {
   "cell_type": "code",
   "execution_count": 1,
   "metadata": {},
   "outputs": [
    {
     "name": "stdout",
     "output_type": "stream",
     "text": [
      "hello world\n"
     ]
    }
   ],
   "source": [
    "print ('hello world')"
   ]
  },
  {
   "cell_type": "code",
   "execution_count": null,
   "metadata": {},
   "outputs": [],
   "source": []
  }
 ],
 "metadata": {
  "kernelspec": {
   "display_name": "Python 3",
   "language": "python",
   "name": "python3"
  },
  "language_info": {
   "codemirror_mode": {
    "name": "ipython",
    "version": 3
   },
   "file_extension": ".py",
   "mimetype": "text/x-python",
   "name": "python",
   "nbconvert_exporter": "python",
   "pygments_lexer": "ipython3",
   "version": "3.6.5"
  }
 },
 "nbformat": 4,
 "nbformat_minor": 2
}

{
 "cells": [
  {
   "cell_type": "markdown",
   "metadata": {},
   "source": [
    "C2.Ex.2.6\n",
    "\n",
    "Saving to buy a boat\n",
    "\n",
    "you can save $20000 yearly from your income and earn a return of 8% with that income.  \n",
    "\n",
    "you plan saving for 5 years"
   ]
  },
  {
   "cell_type": "code",
   "execution_count": 11,
   "metadata": {},
   "outputs": [],
   "source": [
    "import numpy as np\n",
    "import locale as loc\n",
    "loc.setlocale(loc.LC_ALL, \"\")\n",
    "\n",
    "cf = 20000\n",
    "t = 5\n",
    "r = 0.08\n"
   ]
  },
  {
   "cell_type": "code",
   "execution_count": 12,
   "metadata": {},
   "outputs": [],
   "source": [
    "# you need to calculate the 5 year annuity factor\n",
    "\n",
    "af = (1/r)-(1/((1+r)**t))\n"
   ]
  },
  {
   "cell_type": "code",
   "execution_count": 13,
   "metadata": {},
   "outputs": [
    {
     "name": "stdout",
     "output_type": "stream",
     "text": [
      "79854.20074156177\n"
     ]
    }
   ],
   "source": [
    "# now you calculate the pv of this investment\n",
    "# pv(rate, nper, pmt[, fv, when])\n",
    "\n",
    "pv = np.pv(r,t,(cf*-1), when='end')\n",
    "\n",
    "print(pv)"
   ]
  },
  {
   "cell_type": "code",
   "execution_count": 15,
   "metadata": {},
   "outputs": [
    {
     "name": "stdout",
     "output_type": "stream",
     "text": [
      "117.332,02 €\n"
     ]
    }
   ],
   "source": [
    "# with today's pv you can calculate the FV of this investment. (the money you will have in five years)\n",
    "\n",
    "fv = pv*((1+r)**t)\n",
    "\n",
    "print(locale.currency(fv,grouping =True))\n"
   ]
  },
  {
   "cell_type": "code",
   "execution_count": null,
   "metadata": {},
   "outputs": [],
   "source": [
    "# the future value of an annuity is the FV of the annuity's PV"
   ]
  }
 ],
 "metadata": {
  "kernelspec": {
   "display_name": "Python 3",
   "language": "python",
   "name": "python3"
  },
  "language_info": {
   "codemirror_mode": {
    "name": "ipython",
    "version": 3
   },
   "file_extension": ".py",
   "mimetype": "text/x-python",
   "name": "python",
   "nbconvert_exporter": "python",
   "pygments_lexer": "ipython3",
   "version": "3.6.5"
  }
 },
 "nbformat": 4,
 "nbformat_minor": 2
}
